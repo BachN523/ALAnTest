{
 "cells": [
  {
   "cell_type": "markdown",
   "metadata": {},
   "source": [
    "# Automated Layer Analysis Version 3.X\n",
    "First developed by Nicole S Dawney, Christian Cammarota and Dan Bergstralh 2020-2022 at the University of Rochester\n",
    "This version and annotations written by Tara M Finegan September 2023 at the University of Missouri"
   ]
  },
  {
   "cell_type": "markdown",
   "metadata": {},
   "source": [
    "## 1. Initialization\n",
    "The code in these cells are required to use ALAn. Please run them in order from **1.1** to **1.4** before continuing."
   ]
  },
  {
   "cell_type": "markdown",
   "metadata": {},
   "source": [
    "### 1.1: Packages\n",
    "The code in this cell imports all necessary Python packages and sets Plots to be interactive in the note"
   ]
  },
  {
   "cell_type": "code",
   "execution_count": null,
   "metadata": {},
   "outputs": [],
   "source": [
    "import os                                   \n",
    "import numpy as np                            \n",
    "import skimage.io as io            \n",
    "from scipy import optimize, stats                      \n",
    "import pandas as pd                             \n",
    "import math\n",
    "import inspect\n",
    "import time\n",
    "from scipy import signal\n",
    "from IPython.display import clear_output\n",
    "import matplotlib.pyplot as plt   \n",
    "from matplotlib import colors\n",
    "# %matplotlib notebook\n",
    "%matplotlib inline\n",
    "\n",
    "from skimage import filters, measure, morphology, segmentation, util \n",
    "from skimage.filters import try_all_threshold\n",
    "from skimage.feature import peak_local_max, canny        \n",
    "from scipy import optimize, ndimage              \n",
    "from skimage.measure import label, regionprops    \n",
    "from skimage.segmentation import clear_border, watershed\n",
    "from skimage.color import label2rgb, rgb2gray              \n",
    "from skimage.morphology import remove_small_objects, remove_small_holes  \n",
    "\n",
    " # Module containing all the function code for Alan. \n",
    "import ALAN_module as alan\n",
    "from ALAN_module import *\n",
    "\n",
    "import ALAN_process\n",
    "from ALAN_process import batch_process, parse\n",
    "\n",
    "from custom_module import *"
   ]
  },
  {
   "cell_type": "markdown",
   "metadata": {},
   "source": [
    "### 1.2: I/O Path\n",
    "This cell specifies the directories for the input path and retrieves from the data the images that will be analyzed, their corresponding names & DataFrames."
   ]
  },
  {
   "cell_type": "code",
   "execution_count": null,
   "metadata": {
    "code_folding": []
   },
   "outputs": [],
   "source": [
    "path = r\"C:\\Users\\Bach Nguyen\\Desktop\\Alan Inputs\\Example data\\\\\"\n",
    "list_of_names, list_of_dfs, list_of_unshuffled_images = ALAN_process.parse(path)"
   ]
  },
  {
   "cell_type": "markdown",
   "metadata": {},
   "source": [
    "### 1.3: Batch Processing\n",
    "This function allows for processing multiple images at once. Detailed descriptions of each image will be output into a pandas DataFrame, and are optionally saved to a .csv file. \n",
    "\n",
    "#### Optional Parameters:\n",
    "- **actin_channel**: (Default: 1) Integer specifying which channel for a multichannel image corresponds to the actin channel.\n",
    "- **invert**: (Default: false)  Boolean specifying to invert the z slices of an image if the z-stack was taken top to bottom instead of bottom to top.\n",
    "- **save_name**: A string name of a dictionary of analyzed image properties, in .csv file format. **Defaults to not saving the dictionary.**\n",
    "\n",
    "*Additionally, this cell displays the DataFrame to help determine the element number for the dataset of interest.*"
   ]
  },
  {
   "cell_type": "code",
   "execution_count": null,
   "metadata": {
    "scrolled": true
   },
   "outputs": [],
   "source": [
    "analyzed_df = batch_process(list_of_dfs, list_of_unshuffled_images, list_of_names, actin_channel = 1, save_name = \"test_ALAN\")\n",
    "display(analyzed_df)"
   ]
  },
  {
   "cell_type": "markdown",
   "metadata": {},
   "source": [
    "### 1.4: Dataset of Interest\n",
    "Determine the element number for the dataset of interest from the output .csv file in **1.3**.\n",
    "Change the 'element_number' integer to continue."
   ]
  },
  {
   "cell_type": "code",
   "execution_count": null,
   "metadata": {},
   "outputs": [],
   "source": [
    "element_number = 1 # Change this to Analyze your DataFrame of choice\n",
    "i = element_number"
   ]
  },
  {
   "cell_type": "markdown",
   "metadata": {},
   "source": [
    "## 2: Diagnostic/Informative plots and visuals.\n",
    "The following functions are to generate diagnostic data outputs and figures. \n",
    "- **Optional:** For any function, an optional parameter of save_name = 'STRING_NAME' will allow you to save these plots in .pdf "
   ]
  },
  {
   "cell_type": "markdown",
   "metadata": {},
   "source": [
    "### 2A: Clear Debris\n",
    "This function provides data on which objects identified by the nuclear segmentation input are considered 'real' cells and used for analysis. A histogram shows the distribution of nuclear volumes in µm³ (x-axis) against the frequency of these volumes. The orange bars represent nuclei identified as 'real' and the blue bars represent 'debris' removed from the analysis. A dotted line indicates the threshold volume above which nuclei is considered real. \n",
    "- This function can also be used to output A pandas DataFrame containing the nuclei identified as true datapoints (df_cleared)\n",
    "\n",
    "#### Optional Parameters for clear_debris\n",
    "- **plot:** (Default: false) whether or not to display the histogram.\n",
    "- **cutoff:** (Default: 1.5) If you are not happy with the cutoff volume of 'real' nuclei, you can change the value that is used to define what a real nucleus is in the clear_debris function by adding a 'cutoff' integer parameter that is defaulted at 1.5 standard deviations below the average nuclear volume."
   ]
  },
  {
   "cell_type": "code",
   "execution_count": null,
   "metadata": {},
   "outputs": [],
   "source": [
    "adf = clear_debris(list_of_dfs[i], plot=True)\n",
    "display(adf)"
   ]
  },
  {
   "cell_type": "markdown",
   "metadata": {},
   "source": [
    "### 2B: Nuclear centroid actin overlay\n",
    "Displays an image that shows the centroid position of the segmented nuclei overlaid onto the .tiff image of the actin signal projected on the XY plane of the tissue.\n",
    "\n",
    "#### Optional Parameters:\n",
    "- **actin_channel**: (Default: 1) Integer specifying which channel for a multichannel image corresponds to the actin channel."
   ]
  },
  {
   "cell_type": "code",
   "execution_count": null,
   "metadata": {},
   "outputs": [],
   "source": [
    "nuclear_centroid_actin_overlay (list_of_dfs[i], list_of_unshuffled_images[i], save_name = False, actin_channel = 1)"
   ]
  },
  {
   "cell_type": "markdown",
   "metadata": {},
   "source": [
    "### 2C: Nuclei distribution\n",
    "A plot showing both the projected signal of actin (red) and the nuclear distribution (blue), fit with a gaussian, with respect to the depth of the tissue. The tissue layer top, bottom, and the peak position of the actin signal are shown by dotted lines.\n",
    "\n",
    "#### Optional Parameters:\n",
    "- **section**: A tuple with four elements corresponding to the bottom, top, left, and right positions of a region of interest within the greater field of view. **Defaults to False positions** which cause the entire field of view to be analyzed.\n",
    "- **invert**: (Default: false)  Boolean specifying to invert the z slices of an image if the z-stack was taken top to bottom instead of bottom to top."
   ]
  },
  {
   "cell_type": "code",
   "execution_count": null,
   "metadata": {},
   "outputs": [],
   "source": [
    "nuclei_distribution(list_of_dfs[i], list_of_unshuffled_images[i], plot = True, actin_channel = 1, invert = False)"
   ]
  },
  {
   "cell_type": "markdown",
   "metadata": {},
   "source": [
    "### 2D: Find shoulders\n",
    "Function to detect whether the actin intensity plot has a ‘shoulder’, the exact mechanism to determine the shoulder is described in Dawney and Cammarota et al. 2023. This function returns the number of peaks and the ratio of the peak heights, or Later-to-Apical shape index. It also plots the actin signal (red), and the first derivative of this plot (blue) with respect to the tissue depth. The tissue layer top, bottom, and the peak position of the actin signal are shown by dotted lines.\n",
    "\n",
    "#### Optional Parameters:\n",
    "- **actin_channel**: (Default: 1) Integer specifying which channel for a multichannel image corresponds to the actin channel.\n",
    "- **section**: A tuple with four elements corresponding to the (bottom, top, left, right) positions of a region of interest within the greater field of view. **Defaults** to False positions which cause the entire field of view to be analyzed.\n",
    "- **invert**: (Default: false)  Boolean specifying to invert the z slices of an image if the z-stack was taken top to bottom instead of bottom to top."
   ]
  },
  {
   "cell_type": "code",
   "execution_count": null,
   "metadata": {},
   "outputs": [],
   "source": [
    "find_shoulders(list_of_dfs[i], list_of_unshuffled_images[i], plot = True, actin_channel = 1, invert = False)"
   ]
  },
  {
   "cell_type": "markdown",
   "metadata": {},
   "source": [
    "### 2E: Terrain Map\n",
    "A map of the position of the centroids of nuclei projected onto the XY plane of the tissue, displayed as dots. The size of the dots show the relative volumes of nuclei. Dot colors represent relative nuclei positions with respect to the tissue depth.\n",
    "- Color scale goes from Light orange (most basal) to Purple (most apical).\n",
    "#### Optional Parameters:\n",
    "- **colorbar**: (Default: False) Specify True to add a colorbar axes to the right of the Plot "
   ]
  },
  {
   "cell_type": "code",
   "execution_count": null,
   "metadata": {},
   "outputs": [],
   "source": [
    "terrain_map(list_of_dfs[i], list_of_unshuffled_images[i], plot = True, color = 'magma_r', invert = False, save_name = False, colorbar = True)"
   ]
  },
  {
   "cell_type": "markdown",
   "metadata": {},
   "source": [
    "### 2F: Sub-classify\n",
    "A map representing the XY field of view of the input 512x512 pixel .tiffs broken into 100x100 pixel sections, color-coded by layer category as determined by the original version of ALAn.\n",
    "\n",
    "#### Color Key\n",
    "- lawngreen: Immature\n",
    "- forestgreen:Intermediate\n",
    "- steelblue: Mature\n",
    "- orange: Disorganized"
   ]
  },
  {
   "cell_type": "code",
   "execution_count": null,
   "metadata": {
    "scrolled": true
   },
   "outputs": [],
   "source": [
    "sub_classify(list_of_dfs[i], list_of_unshuffled_images[i], plot = True, invert = False)"
   ]
  },
  {
   "cell_type": "markdown",
   "metadata": {},
   "source": [
    "## Testing Custom Modules\n",
    "DISCLAIMER: I don't know what these do but they were in the module with Runtime errors so I went and fixed them"
   ]
  },
  {
   "cell_type": "code",
   "execution_count": null,
   "metadata": {},
   "outputs": [],
   "source": [
    "fake_layers(list_of_dfs[i], list_of_unshuffled_images[i], plot = True, invert = False, fake_type = 'double')"
   ]
  },
  {
   "cell_type": "code",
   "execution_count": null,
   "metadata": {
    "scrolled": true
   },
   "outputs": [],
   "source": [
    "z_projection_with_cutoffs(list_of_dfs[i], list_of_unshuffled_images[i], plot = True, invert = False)"
   ]
  },
  {
   "cell_type": "code",
   "execution_count": null,
   "metadata": {},
   "outputs": [],
   "source": []
  },
  {
   "cell_type": "code",
   "execution_count": null,
   "metadata": {},
   "outputs": [],
   "source": []
  },
  {
   "cell_type": "code",
   "execution_count": null,
   "metadata": {},
   "outputs": [],
   "source": []
  }
 ],
 "metadata": {
  "kernelspec": {
   "display_name": "Python 3 (ipykernel)",
   "language": "python",
   "name": "python3"
  },
  "language_info": {
   "codemirror_mode": {
    "name": "ipython",
    "version": 3
   },
   "file_extension": ".py",
   "mimetype": "text/x-python",
   "name": "python",
   "nbconvert_exporter": "python",
   "pygments_lexer": "ipython3",
   "version": "3.11.5"
  },
  "varInspector": {
   "cols": {
    "lenName": 16,
    "lenType": 16,
    "lenVar": 40
   },
   "kernels_config": {
    "python": {
     "delete_cmd_postfix": "",
     "delete_cmd_prefix": "del ",
     "library": "var_list.py",
     "varRefreshCmd": "print(var_dic_list())"
    },
    "r": {
     "delete_cmd_postfix": ") ",
     "delete_cmd_prefix": "rm(",
     "library": "var_list.r",
     "varRefreshCmd": "cat(var_dic_list()) "
    }
   },
   "types_to_exclude": [
    "module",
    "function",
    "builtin_function_or_method",
    "instance",
    "_Feature"
   ],
   "window_display": false
  }
 },
 "nbformat": 4,
 "nbformat_minor": 4
}
